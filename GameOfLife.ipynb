{
 "cells": [
  {
   "cell_type": "markdown",
   "metadata": {},
   "source": [
    "# Universidad Politecnica Salesiana\n",
    "---\n",
    "### Simulacion\n",
    "\n",
    "#### Practica1: Juego de la Vida\n",
    "---\n",
    "##### Realizado por:  Soa Vanessa Amendano Murillo\n",
    "\n",
    "### Game Of Life\n",
    "\n",
    "Se diseñó en 1970 por John Horton Conway, este juego solo necesita una entrada inicial para observar el desarrollo y evolución de las células dentro de una cuadricula bidimensional, en donde la célula se puede encontrar en dos estados vivo o muerto, el cual interactuara con sus ocho vecinos.\n",
    "\n",
    "### Reglas del Juego:\n",
    "\n",
    "> 1. Cualquier célula viva con menos de dos vecinos vivos muere \n",
    "> 2. Cualquier célula viva con dos o tres vecinos vivos vive \n",
    "> 3. Cualquier célula viva con más de tres vecinos vivos muere \n",
    "> 4. Cualquier célula muerta con exactamente tres vecinos vivos cobra vida”[1]\n",
    "\n",
    "El patrón del juego puede variar como patrones que preceden de sí mismos conocidos como osciladores, patrones que no cambian de un ciclo conocidos como vidas estáticas, patrones que reaparecen en diferentes posiciones tras completar un periodo como naves espaciales e incluso patrones que van evolucionando o mutando hasta algo inimaginable, simplemente existe una infinidad variedad de los patrones para explorar y descubrir las diversas formas que dan.\n",
    "\n",
    "### Formulacin del Problema\n",
    "\n",
    "Para este caso se realizara la simulación de 6 patrones de figuras los cuales representaran numeros del 0 a; 5 con un límite de iteraciones y sus respectivas estadísticas.\n",
    "\n",
    "### Resultados que se esperan del simulador\n",
    "\n",
    "La cantidad de números de las células vivas y muertas con sus respectivas estadísticas\n",
    "\n",
    "### Tiempo disponible\n",
    "\n",
    "2 Semanas\n",
    "\n",
    "### Valores de Interes\n",
    "\n",
    "+ Numero de Celulas Vivas\n",
    "+ Numero de Celulas Muertas\n",
    "+ Numero de Iteraciones\n",
    "+ Tamaño de la Figura\n",
    "\n",
    "### Plan de Experimentacion\n",
    "\n",
    "En este caso se definio la matriz con los numeros del cero al cinco en el cual se le importa las siguientes librerias\n"
   ]
  },
  {
   "cell_type": "code",
   "execution_count": 3,
   "metadata": {},
   "outputs": [],
   "source": [
    "import numpy as np \n",
    "import matplotlib.pyplot as plt \n",
    "import matplotlib.patches as patches\n"
   ]
  },
  {
   "cell_type": "markdown",
   "metadata": {},
   "source": [
    "Definicion de las celulas vivas y muertas de la figura"
   ]
  },
  {
   "cell_type": "code",
   "execution_count": 4,
   "metadata": {},
   "outputs": [],
   "source": [
    "def exten(mat):\n",
    "    n = len(mat) \n",
    "    ex = np.zeros((n+2,n+2)) \n",
    "    ex[1:n+1,1:n+1] = mat \n",
    "    return ex\n"
   ]
  },
  {
   "cell_type": "code",
   "execution_count": 5,
   "metadata": {},
   "outputs": [],
   "source": [
    "def veci(i,j, ex): \n",
    "    return (ex[i,j-1] + ex[i,j+1] + ex[i-1,j-1] + (ex[i-1,j] + \n",
    "            ex[i-1,j+1] + ex[i+1,j-1]) + (ex[i+1,j]+ ex[i+1,j+1]))"
   ]
  },
  {
   "cell_type": "code",
   "execution_count": 6,
   "metadata": {},
   "outputs": [],
   "source": [
    "def reglas(mat): \n",
    "    n = len(mat) \n",
    "    ex = exten(mat) \n",
    "    nmat = np.zeros((n,n)) \n",
    "    for i in range(1,n+1): \n",
    "        for j in range(1,n+1): \n",
    "            s = veci(i,j,ex) \n",
    "            if s>3 or s <=1: \n",
    "                nmat[i-1,j-1] = 0 \n",
    "            if s == 3 and mat[i-1,j-1]== 0: \n",
    "                nmat[i-1,j-1] = 1 \n",
    "            if (s == 3 or s== 2) and mat[i-1,j-1]== 1: \n",
    "                nmat[i-1,j-1] = 1 \n",
    "    return nmat\n"
   ]
  },
  {
   "cell_type": "code",
   "execution_count": 7,
   "metadata": {},
   "outputs": [],
   "source": [
    "def correr(n,ini):\n",
    "    pasos = [] \n",
    "    pasos.append(ini) \n",
    "    g = ini \n",
    "    for i in range(n): \n",
    "        g = reglas(g) \n",
    "        pasos.append(g) \n",
    "    return pasos"
   ]
  },
  {
   "cell_type": "markdown",
   "metadata": {},
   "source": [
    "Creacion de la Matriz Primaria"
   ]
  },
  {
   "cell_type": "code",
   "execution_count": 8,
   "metadata": {},
   "outputs": [],
   "source": [
    "init = np.zeros((34,34)) \n",
    "init[8,5] = 1 \n",
    "init[8,6] = 1 \n",
    "init[8,7] = 1 \n",
    "init[8,8] = 1 \n",
    "init[8,9] = 1 \n",
    "init[8,11] = 1 \n",
    "init[8,12] = 1 \n",
    "init[8,13] = 1 \n",
    "init[8,14] = 1 \n",
    "init[8,15] = 1\n"
   ]
  },
  {
   "cell_type": "code",
   "execution_count": 9,
   "metadata": {},
   "outputs": [],
   "source": [
    "res = correr(2, init)"
   ]
  },
  {
   "cell_type": "code",
   "execution_count": 10,
   "metadata": {},
   "outputs": [
    {
     "name": "stdout",
     "output_type": "stream",
     "text": [
      "[[0. 0. 0. ... 0. 0. 0.]\n",
      " [0. 0. 0. ... 0. 0. 0.]\n",
      " [0. 0. 0. ... 0. 0. 0.]\n",
      " ...\n",
      " [0. 0. 0. ... 0. 0. 0.]\n",
      " [0. 0. 0. ... 0. 0. 0.]\n",
      " [0. 0. 0. ... 0. 0. 0.]]\n",
      "34\n"
     ]
    }
   ],
   "source": [
    "print (res[2]) \n",
    "print (len(res[2]))"
   ]
  },
  {
   "cell_type": "markdown",
   "metadata": {},
   "source": [
    "Metodo de la Estadisticas"
   ]
  },
  {
   "cell_type": "code",
   "execution_count": 11,
   "metadata": {},
   "outputs": [],
   "source": [
    "def grafmat(mt): \n",
    "    n = len(mt) \n",
    "    dx = 1/n \n",
    "    pieces = [] \n",
    "    frame = patches.Rectangle( \n",
    "        (0.0, 0.0),1, 1, fill=False, edgecolor=\"white\",linewidth=2) \n",
    "    pieces.append(frame) \n",
    "    for j in range(n): \n",
    "        for i in range(n): \n",
    "            if mt[i,j]==1: \n",
    "                p = patches.Rectangle( \n",
    "                    (j/n,(n-1-i)/n), dx,dx, edgecolor=\"Gray\", facecolor=\"black\", fill=True) \n",
    "                pieces.append(p) \n",
    "            if mt[i,j]==0: \n",
    "                p = patches.Rectangle(\n",
    "                    (j/n,(n-1-i)/n), dx, dx, edgecolor=\"Gray\", fill=False,linewidth=2) \n",
    "                pieces.append(p) \n",
    "    return pieces"
   ]
  },
  {
   "cell_type": "code",
   "execution_count": 12,
   "metadata": {},
   "outputs": [],
   "source": [
    "def ver2(v,w,nomb): \n",
    "    fg = plt.figure(figsize=(20,4)) \n",
    "    adj = plt.subplots_adjust(hspace=0.4)\n",
    "\n",
    "    ax0=plt.subplot(151,aspect='equal') \n",
    "    ax0.set_title(nomb[0]) \n",
    "    shape = grafmat(v) \n",
    "    for p in shape: ax0.add_patch(p) \n",
    "    plt.axis('off')\n",
    "    \n",
    "\n",
    "    ax1=plt.subplot(152,aspect='equal') \n",
    "    ax1.set_title(nomb[1]) \n",
    "    shape = grafmat(w) \n",
    "    for p in shape: ax1.add_patch(p) \n",
    "    plt.axis('off')\n",
    "    plt.show()"
   ]
  },
  {
   "cell_type": "code",
   "execution_count": 13,
   "metadata": {},
   "outputs": [],
   "source": [
    "def base(): \n",
    "    Base = np.zeros((34,34)) \n",
    "    return Base"
   ]
  },
  {
   "cell_type": "markdown",
   "metadata": {},
   "source": [
    "### Definimos las 6 Muestras"
   ]
  },
  {
   "cell_type": "code",
   "execution_count": 14,
   "metadata": {},
   "outputs": [],
   "source": [
    "Base1 = base() \n",
    "Base1[12,13] = 1 \n",
    "Base1[12,14] = 1\n",
    "Base1[12,15] = 1\n",
    "Base1[12,16] = 1\n",
    "Base1[12,17] = 1 \n",
    "Base1[12,18] = 1 \n",
    "Base1[12,19] = 1 \n",
    "Base1[13,13] = 1 \n",
    "Base1[13,14] = 1\n",
    "Base1[13,18] = 1 \n",
    "Base1[13,19] = 1 \n",
    "Base1[14,13] = 1 \n",
    "Base1[14,14] = 1\n",
    "Base1[14,18] = 1 \n",
    "Base1[14,19] = 1 \n",
    "Base1[15,13] = 1 \n",
    "Base1[15,14] = 1\n",
    "Base1[15,18] = 1 \n",
    "Base1[15,19] = 1 \n",
    "Base1[16,13] = 1 \n",
    "Base1[16,14] = 1\n",
    "Base1[16,18] = 1 \n",
    "Base1[16,19] = 1 \n",
    "Base1[17,13] = 1 \n",
    "Base1[17,14] = 1\n",
    "Base1[17,18] = 1 \n",
    "Base1[17,19] = 1 \n",
    "Base1[18,13] = 1 \n",
    "Base1[18,14] = 1\n",
    "Base1[18,18] = 1 \n",
    "Base1[18,19] = 1 \n",
    "Base1[19,13] = 1 \n",
    "Base1[19,14] = 1\n",
    "Base1[19,18] = 1 \n",
    "Base1[19,19] = 1 \n",
    "Base1[20,13] = 1 \n",
    "Base1[20,14] = 1\n",
    "Base1[20,15] = 1\n",
    "Base1[20,16] = 1\n",
    "Base1[20,17] = 1 \n",
    "Base1[20,18] = 1 \n",
    "Base1[20,19] = 1\n",
    "\n",
    "Base2 = base() \n",
    "Base2[12,17] = 1 \n",
    "Base2[12,18] = 1 \n",
    "Base2[12,19] = 1 \n",
    "Base2[13,17] = 1 \n",
    "Base2[13,18] = 1\n",
    "Base2[13,19] = 1 \n",
    "Base2[14,16] = 1 \n",
    "Base2[14,17] = 1\n",
    "Base2[14,18] = 1 \n",
    "Base2[14,19] = 1 \n",
    "Base2[15,15] = 1 \n",
    "Base2[15,16] = 1\n",
    "Base2[15,18] = 1 \n",
    "Base2[15,19] = 1 \n",
    "Base2[16,16] = 1 \n",
    "Base2[16,18] = 1 \n",
    "Base2[16,19] = 1 \n",
    "Base2[17,18] = 1 \n",
    "Base2[17,19] = 1 \n",
    "Base2[18,18] = 1 \n",
    "Base2[18,19] = 1 \n",
    "Base2[19,18] = 1 \n",
    "Base2[19,19] = 1 \n",
    "Base2[20,18] = 1 \n",
    "Base2[20,19] = 1\n",
    "\n",
    "Base3 = base() \n",
    "Base3[13,15] = 1 \n",
    "Base3[13,16] = 1\n",
    "Base3[13,18] = 1 \n",
    "Base3[14,14] = 1 \n",
    "Base3[14,15] = 1\n",
    "Base3[14,16] = 1 \n",
    "Base3[14,17] = 1\n",
    "Base3[14,18] = 1 \n",
    "Base3[15,13] = 1 \n",
    "Base3[15,14] = 1\n",
    "Base3[15,17] = 1 \n",
    "Base3[15,18] = 1 \n",
    "Base3[16,13] = 1 \n",
    "Base3[16,17] = 1\n",
    "Base3[16,18] = 1 \n",
    "Base3[17,16] = 1 \n",
    "Base3[17,17] = 1\n",
    "Base3[17,18] = 1  \n",
    "Base3[18,15] = 1 \n",
    "Base3[18,16] = 1\n",
    "Base3[19,14] = 1 \n",
    "Base3[19,15] = 1\n",
    "Base3[20,14] = 1\n",
    "Base3[20,15] = 1\n",
    "Base3[20,16] = 1\n",
    "Base3[20,17] = 1 \n",
    "Base3[20,18] = 1 \n",
    "\n",
    "Base4 = base() \n",
    "Base4[13,15] = 1 \n",
    "Base4[13,16] = 1\n",
    "Base4[13,17] = 1 \n",
    "Base4[14,14] = 1 \n",
    "Base4[14,15] = 1\n",
    "Base4[14,16] = 1 \n",
    "Base4[14,17] = 1\n",
    "Base4[14,18] = 1 \n",
    "Base4[15,14] = 1 \n",
    "Base4[15,18] = 1\n",
    "Base4[16,16] = 1 \n",
    "Base4[16,17] = 1\n",
    "Base4[16,18] = 1 \n",
    "Base4[17,16] = 1 \n",
    "Base4[17,17] = 1\n",
    "Base4[17,18] = 1 \n",
    "Base4[18,14] = 1 \n",
    "Base4[18,18] = 1\n",
    "Base4[19,14] = 1 \n",
    "Base4[19,15] = 1\n",
    "Base4[19,16] = 1 \n",
    "Base4[19,17] = 1\n",
    "Base4[19,18] = 1 \n",
    "Base4[20,15] = 1 \n",
    "Base4[20,16] = 1\n",
    "Base4[20,17] = 1 \n",
    "\n",
    "Base5 = base() \n",
    "Base5[12,13] = 1 \n",
    "Base5[12,14] = 1\n",
    "Base5[12,18] = 1 \n",
    "Base5[12,19] = 1 \n",
    "Base5[13,13] = 1 \n",
    "Base5[13,14] = 1\n",
    "Base5[13,18] = 1 \n",
    "Base5[13,19] = 1 \n",
    "Base5[14,13] = 1\n",
    "Base5[14,14] = 1 \n",
    "Base5[14,18] = 1 \n",
    "Base5[14,19] = 1 \n",
    "Base5[15,13] = 1\n",
    "Base5[15,14] = 1 \n",
    "Base5[15,18] = 1 \n",
    "Base5[15,19] = 1\n",
    "Base5[16,13] = 1 \n",
    "Base5[16,14] = 1\n",
    "Base5[16,15] = 1 \n",
    "Base5[16,16] = 1 \n",
    "Base5[16,17] = 1\n",
    "Base5[16,18] = 1 \n",
    "Base5[16,19] = 1 \n",
    "Base5[17,18] = 1\n",
    "Base5[17,19] = 1 \n",
    "Base5[18,18] = 1\n",
    "Base5[18,19] = 1 \n",
    "Base5[19,18] = 1\n",
    "Base5[19,19] = 1 \n",
    "Base5[20,18] = 1 \n",
    "Base5[20,19] = 1\n",
    "\n",
    "\n",
    "Base6 = base() \n",
    "Base6[13,13] = 1 \n",
    "Base6[13,14] = 1\n",
    "Base6[13,15] = 1 \n",
    "Base6[13,16] = 1 \n",
    "Base6[13,17] = 1\n",
    "Base6[13,18] = 1 \n",
    "Base6[13,13] = 1 \n",
    "Base6[14,14] = 1 \n",
    "Base6[14,17] = 1\n",
    "Base6[14,18] = 1 \n",
    "Base6[15,13] = 1 \n",
    "Base6[15,14] = 1\n",
    "Base6[16,13] = 1 \n",
    "Base6[16,14] = 1\n",
    "Base6[16,15] = 1 \n",
    "Base6[16,16] = 1 \n",
    "Base6[17,17] = 1\n",
    "Base6[17,18] = 1 \n",
    "Base6[18,17] = 1 \n",
    "Base6[18,18] = 1\n",
    "Base6[19,13] = 1 \n",
    "Base6[19,14] = 1\n",
    "Base6[19,15] = 1 \n",
    "Base6[19,16] = 1\n",
    "Base6[19,17] = 1 \n",
    "Base6[20,14] = 1 \n",
    "Base6[20,15] = 1\n",
    "Base6[20,16] = 1 "
   ]
  },
  {
   "cell_type": "code",
   "execution_count": 15,
   "metadata": {},
   "outputs": [
    {
     "data": {
      "image/png": "[encoded data removed]",
      "text/plain": [
       "<Figure size 1440x288 with 2 Axes>"
      ]
     },
     "metadata": {
      "needs_background": "light"
     },
     "output_type": "display_data"
    },
    {
     "data": {
      "image/png": "[encoded data removed]",
      "text/plain": [
       "<Figure size 1440x288 with 2 Axes>"
      ]
     },
     "metadata": {
      "needs_background": "light"
     },
     "output_type": "display_data"
    },
    {
     "data": {
      "image/png": "[encoded data removed]",
      "text/plain": [
       "<Figure size 1440x288 with 2 Axes>"
      ]
     },
     "metadata": {
      "needs_background": "light"
     },
     "output_type": "display_data"
    }
   ],
   "source": [
    "ver2 (Base1,Base2,['Muestra1','Muestra2']) \n",
    "ver2 (Base3,Base4,['Muestra3','Muestra4']) \n",
    "ver2 (Base5,Base6,['Muestra5','Muestra6'])"
   ]
  },
  {
   "cell_type": "code",
   "execution_count": 22,
   "metadata": {},
   "outputs": [],
   "source": [
    "def vermat(x): \n",
    "    ax1=plt.subplot(111,aspect='equal') \n",
    "    shape = grafmat(x) \n",
    "    for p in shape: ax1.add_patch(p) \n",
    "    plt.axis('off') \n",
    "    plt.show()\n"
   ]
  },
  {
   "cell_type": "markdown",
   "metadata": {},
   "source": [
    "### Tratamiento estadístico de los resultados"
   ]
  },
  {
   "cell_type": "code",
   "execution_count": 31,
   "metadata": {},
   "outputs": [
    {
     "name": "stdout",
     "output_type": "stream",
     "text": [
      "Muestra  1\n"
     ]
    },
    {
     "data": {
      "image/png": "[encoded data removed]",
      "text/plain": [
       "<Figure size 432x288 with 1 Axes>"
      ]
     },
     "metadata": {
      "needs_background": "light"
     },
     "output_type": "display_data"
    },
    {
     "data": {
      "image/png": "[encoded data removed]",
      "text/plain": [
       "<Figure size 432x288 with 1 Axes>"
      ]
     },
     "metadata": {
      "needs_background": "light"
     },
     "output_type": "display_data"
    }
   ],
   "source": [
    "muestras = [Base1] \n",
    "resultados = []\n",
    "\n",
    "for m in muestras: \n",
    "    r = correr(8, m) \n",
    "    resultados.append(r)\n",
    "    \n",
    "import simpy \n",
    "import random \n",
    "import matplotlib.pyplot as pp\n",
    "dms={} \n",
    "dm={} \n",
    "j = 0 \n",
    "for r in resultados: \n",
    "    j = j + 1 \n",
    "    i = 0 \n",
    "    for m in r: \n",
    "        i = i + 1 \n",
    "        for fila in range(len(m)): \n",
    "            for columna in range(len(m)):\n",
    "                if m[fila][columna] == 1: \n",
    "                    if i in dm:\n",
    "                        dm[i]=dm[i]+1 \n",
    "                    else: \n",
    "                        dm[i]=1\n",
    "dms[j]=dm \n",
    "dm={}\n",
    "\n",
    "for key, dicm in dms.items(): \n",
    "    print (\"Muestra \", key) \n",
    "    vermat (muestras[key-1]) \n",
    "    #print (dicm) \n",
    "    datos=sorted(dicm.items()) \n",
    "    x, y =zip(*datos) \n",
    "    pp.plot(x,y,linewidth=2,color='red') \n",
    "    pp.scatter(x,y,color='blue') \n",
    "    pp.grid(True) \n",
    "    pp.title(\"Muestra %s\" %(key)) \n",
    "    pp.xlabel('Interacciones') \n",
    "    pp.ylabel('Celulas Vivas') \n",
    "    pp.show()"
   ]
  },
  {
   "cell_type": "code",
   "execution_count": 32,
   "metadata": {},
   "outputs": [
    {
     "name": "stdout",
     "output_type": "stream",
     "text": [
      "Muestra  1\n"
     ]
    },
    {
     "data": {
      "image/png": "[encoded data removed]",
      "text/plain": [
       "<Figure size 432x288 with 1 Axes>"
      ]
     },
     "metadata": {
      "needs_background": "light"
     },
     "output_type": "display_data"
    },
    {
     "data": {
      "image/png": "[encoded data removed]",
      "text/plain": [
       "<Figure size 432x288 with 1 Axes>"
      ]
     },
     "metadata": {
      "needs_background": "light"
     },
     "output_type": "display_data"
    }
   ],
   "source": [
    "muestras = [Base2] \n",
    "resultados = []\n",
    "\n",
    "for m in muestras: \n",
    "    r = correr(8, m) \n",
    "    resultados.append(r)\n",
    "    \n",
    "import simpy \n",
    "import random \n",
    "import matplotlib.pyplot as pp\n",
    "dms={} \n",
    "dm={} \n",
    "j = 0 \n",
    "for r in resultados: \n",
    "    j = j + 1 \n",
    "    i = 0 \n",
    "    for m in r: \n",
    "        i = i + 1 \n",
    "        for fila in range(len(m)): \n",
    "            for columna in range(len(m)):\n",
    "                if m[fila][columna] == 1: \n",
    "                    if i in dm:\n",
    "                        dm[i]=dm[i]+1 \n",
    "                    else: \n",
    "                        dm[i]=1\n",
    "dms[j]=dm \n",
    "dm={}\n",
    "\n",
    "for key, dicm in dms.items(): \n",
    "    print (\"Muestra \", key) \n",
    "    vermat (muestras[key-1]) \n",
    "    #print (dicm) \n",
    "    datos=sorted(dicm.items()) \n",
    "    x, y =zip(*datos) \n",
    "    pp.plot(x,y,linewidth=2,color='red') \n",
    "    pp.scatter(x,y,color='blue') \n",
    "    pp.grid(True) \n",
    "    pp.title(\"Muestra %s\" %(key)) \n",
    "    pp.xlabel('Interacciones') \n",
    "    pp.ylabel('Celulas Vivas') \n",
    "    pp.show()"
   ]
  },
  {
   "cell_type": "code",
   "execution_count": 33,
   "metadata": {},
   "outputs": [
    {
     "name": "stdout",
     "output_type": "stream",
     "text": [
      "Muestra  1\n"
     ]
    },
    {
     "data": {
      "image/png": "[encoded data removed]",
      "text/plain": [
       "<Figure size 432x288 with 1 Axes>"
      ]
     },
     "metadata": {
      "needs_background": "light"
     },
     "output_type": "display_data"
    },
    {
     "data": {
      "image/png": "[encoded data removed]",
      "text/plain": [
       "<Figure size 432x288 with 1 Axes>"
      ]
     },
     "metadata": {
      "needs_background": "light"
     },
     "output_type": "display_data"
    }
   ],
   "source": [
    "muestras = [Base3] \n",
    "resultados = []\n",
    "\n",
    "for m in muestras: \n",
    "    r = correr(8, m) \n",
    "    resultados.append(r)\n",
    "    \n",
    "import simpy \n",
    "import random \n",
    "import matplotlib.pyplot as pp\n",
    "dms={} \n",
    "dm={} \n",
    "j = 0 \n",
    "for r in resultados: \n",
    "    j = j + 1 \n",
    "    i = 0 \n",
    "    for m in r: \n",
    "        i = i + 1 \n",
    "        for fila in range(len(m)): \n",
    "            for columna in range(len(m)):\n",
    "                if m[fila][columna] == 1: \n",
    "                    if i in dm:\n",
    "                        dm[i]=dm[i]+1 \n",
    "                    else: \n",
    "                        dm[i]=1\n",
    "dms[j]=dm \n",
    "dm={}\n",
    "\n",
    "for key, dicm in dms.items(): \n",
    "    print (\"Muestra \", key) \n",
    "    vermat (muestras[key-1]) \n",
    "    #print (dicm) \n",
    "    datos=sorted(dicm.items()) \n",
    "    x, y =zip(*datos) \n",
    "    pp.plot(x,y,linewidth=2,color='red') \n",
    "    pp.scatter(x,y,color='blue') \n",
    "    pp.grid(True) \n",
    "    pp.title(\"Muestra %s\" %(key)) \n",
    "    pp.xlabel('Interacciones') \n",
    "    pp.ylabel('Celulas Vivas') \n",
    "    pp.show()"
   ]
  },
  {
   "cell_type": "code",
   "execution_count": 34,
   "metadata": {},
   "outputs": [
    {
     "name": "stdout",
     "output_type": "stream",
     "text": [
      "Muestra  1\n"
     ]
    },
    {
     "data": {
      "image/png": "[encoded data removed]",
      "text/plain": [
       "<Figure size 432x288 with 1 Axes>"
      ]
     },
     "metadata": {
      "needs_background": "light"
     },
     "output_type": "display_data"
    },
    {
     "data": {
      "image/png": "[encoded data removed]",
      "text/plain": [
       "<Figure size 432x288 with 1 Axes>"
      ]
     },
     "metadata": {
      "needs_background": "light"
     },
     "output_type": "display_data"
    }
   ],
   "source": [
    "muestras = [Base4] \n",
    "resultados = []\n",
    "\n",
    "for m in muestras: \n",
    "    r = correr(8, m) \n",
    "    resultados.append(r)\n",
    "    \n",
    "import simpy \n",
    "import random \n",
    "import matplotlib.pyplot as pp\n",
    "dms={} \n",
    "dm={} \n",
    "j = 0 \n",
    "for r in resultados: \n",
    "    j = j + 1 \n",
    "    i = 0 \n",
    "    for m in r: \n",
    "        i = i + 1 \n",
    "        for fila in range(len(m)): \n",
    "            for columna in range(len(m)):\n",
    "                if m[fila][columna] == 1: \n",
    "                    if i in dm:\n",
    "                        dm[i]=dm[i]+1 \n",
    "                    else: \n",
    "                        dm[i]=1\n",
    "dms[j]=dm \n",
    "dm={}\n",
    "\n",
    "for key, dicm in dms.items(): \n",
    "    print (\"Muestra \", key) \n",
    "    vermat (muestras[key-1]) \n",
    "    #print (dicm) \n",
    "    datos=sorted(dicm.items()) \n",
    "    x, y =zip(*datos) \n",
    "    pp.plot(x,y,linewidth=2,color='red') \n",
    "    pp.scatter(x,y,color='blue') \n",
    "    pp.grid(True) \n",
    "    pp.title(\"Muestra %s\" %(key)) \n",
    "    pp.xlabel('Interacciones') \n",
    "    pp.ylabel('Celulas Vivas') \n",
    "    pp.show()"
   ]
  },
  {
   "cell_type": "code",
   "execution_count": 35,
   "metadata": {},
   "outputs": [
    {
     "name": "stdout",
     "output_type": "stream",
     "text": [
      "Muestra  1\n"
     ]
    },
    {
     "data": {
      "image/png": "[encoded data removed]",
      "text/plain": [
       "<Figure size 432x288 with 1 Axes>"
      ]
     },
     "metadata": {
      "needs_background": "light"
     },
     "output_type": "display_data"
    },
    {
     "data": {
      "image/png": "[encoded data removed]",
      "text/plain": [
       "<Figure size 432x288 with 1 Axes>"
      ]
     },
     "metadata": {
      "needs_background": "light"
     },
     "output_type": "display_data"
    }
   ],
   "source": [
    "muestras = [Base5] \n",
    "resultados = []\n",
    "\n",
    "for m in muestras: \n",
    "    r = correr(8, m) \n",
    "    resultados.append(r)\n",
    "    \n",
    "import simpy \n",
    "import random \n",
    "import matplotlib.pyplot as pp\n",
    "dms={} \n",
    "dm={} \n",
    "j = 0 \n",
    "for r in resultados: \n",
    "    j = j + 1 \n",
    "    i = 0 \n",
    "    for m in r: \n",
    "        i = i + 1 \n",
    "        for fila in range(len(m)): \n",
    "            for columna in range(len(m)):\n",
    "                if m[fila][columna] == 1: \n",
    "                    if i in dm:\n",
    "                        dm[i]=dm[i]+1 \n",
    "                    else: \n",
    "                        dm[i]=1\n",
    "dms[j]=dm \n",
    "dm={}\n",
    "\n",
    "for key, dicm in dms.items(): \n",
    "    print (\"Muestra \", key) \n",
    "    vermat (muestras[key-1]) \n",
    "    #print (dicm) \n",
    "    datos=sorted(dicm.items()) \n",
    "    x, y =zip(*datos) \n",
    "    pp.plot(x,y,linewidth=2,color='red') \n",
    "    pp.scatter(x,y,color='blue') \n",
    "    pp.grid(True) \n",
    "    pp.title(\"Muestra %s\" %(key)) \n",
    "    pp.xlabel('Interacciones') \n",
    "    pp.ylabel('Celulas Vivas') \n",
    "    pp.show()"
   ]
  },
  {
   "cell_type": "code",
   "execution_count": 36,
   "metadata": {},
   "outputs": [
    {
     "name": "stdout",
     "output_type": "stream",
     "text": [
      "Muestra  1\n"
     ]
    },
    {
     "data": {
      "image/png": "[encoded data removed]",
      "text/plain": [
       "<Figure size 432x288 with 1 Axes>"
      ]
     },
     "metadata": {
      "needs_background": "light"
     },
     "output_type": "display_data"
    },
    {
     "data": {
      "image/png": "[encoded data removed]",
      "text/plain": [
       "<Figure size 432x288 with 1 Axes>"
      ]
     },
     "metadata": {
      "needs_background": "light"
     },
     "output_type": "display_data"
    }
   ],
   "source": [
    "muestras = [Base6] \n",
    "resultados = []\n",
    "\n",
    "for m in muestras: \n",
    "    r = correr(8, m) \n",
    "    resultados.append(r)\n",
    "    \n",
    "import simpy \n",
    "import random \n",
    "import matplotlib.pyplot as pp\n",
    "dms={} \n",
    "dm={} \n",
    "j = 0 \n",
    "for r in resultados: \n",
    "    j = j + 1 \n",
    "    i = 0 \n",
    "    for m in r: \n",
    "        i = i + 1 \n",
    "        for fila in range(len(m)): \n",
    "            for columna in range(len(m)):\n",
    "                if m[fila][columna] == 1: \n",
    "                    if i in dm:\n",
    "                        dm[i]=dm[i]+1 \n",
    "                    else: \n",
    "                        dm[i]=1\n",
    "dms[j]=dm \n",
    "dm={}\n",
    "\n",
    "for key, dicm in dms.items(): \n",
    "    print (\"Muestra \", key) \n",
    "    vermat (muestras[key-1]) \n",
    "    #print (dicm) \n",
    "    datos=sorted(dicm.items()) \n",
    "    x, y =zip(*datos) \n",
    "    pp.plot(x,y,linewidth=2,color='red') \n",
    "    pp.scatter(x,y,color='blue') \n",
    "    pp.grid(True) \n",
    "    pp.title(\"Muestra %s\" %(key)) \n",
    "    pp.xlabel('Interacciones') \n",
    "    pp.ylabel('Celulas Vivas') \n",
    "    pp.show()"
   ]
  },
  {
   "cell_type": "markdown",
   "metadata": {},
   "source": [
    "### Simulacion de Cada Muestra"
   ]
  },
  {
   "cell_type": "code",
   "execution_count": 37,
   "metadata": {},
   "outputs": [],
   "source": [
    "import numpy as np\n",
    "import matplotlib.pyplot as plt\n",
    "import matplotlib.patches as patches"
   ]
  },
  {
   "cell_type": "code",
   "execution_count": 38,
   "metadata": {},
   "outputs": [],
   "source": [
    "def exten(mat):\n",
    "    n = len(mat)\n",
    "    ex  = np.zeros((n+2,n+2))\n",
    "    ex[1:n+1,1:n+1] = mat\n",
    "    return ex"
   ]
  },
  {
   "cell_type": "code",
   "execution_count": 39,
   "metadata": {},
   "outputs": [],
   "source": [
    "def sumavecinos(i,j, ex):\n",
    "    return (ex[i,j-1] + ex[i,j+1] + ex[i-1,j-1] + \n",
    "            (ex[i-1,j] + ex[i-1,j+1] + ex[i+1,j-1]) + \n",
    "            (ex[i+1,j]+ ex[i+1,j+1]))"
   ]
  },
  {
   "cell_type": "code",
   "execution_count": 40,
   "metadata": {},
   "outputs": [],
   "source": [
    "def reglas(mat):\n",
    "    n = len(mat)\n",
    "    ex  = exten(mat)\n",
    "    nmat = np.zeros((n,n))\n",
    "    for i in range(1,n+1):\n",
    "        for j in range(1,n+1):\n",
    "            s = sumavecinos(i,j,ex)\n",
    "            if  s>3 or s <=1: \n",
    "                nmat[i-1,j-1] = 0\n",
    "            if s == 3 and mat[i-1,j-1]== 0: \n",
    "                nmat[i-1,j-1] = 1\n",
    "            if (s == 3 or s== 2) and mat[i-1,j-1]== 1: \n",
    "                nmat[i-1,j-1] = 1\n",
    "    return nmat  "
   ]
  },
  {
   "cell_type": "code",
   "execution_count": 41,
   "metadata": {},
   "outputs": [],
   "source": [
    "def evolucion(n,ini):\n",
    "    historia = []\n",
    "    historia.append(ini)\n",
    "    g = ini \n",
    "    for i in range(n):\n",
    "        g = reglas(g)\n",
    "        historia.append(g)\n",
    "    return historia"
   ]
  },
  {
   "cell_type": "code",
   "execution_count": 42,
   "metadata": {},
   "outputs": [],
   "source": [
    "def andamio(mt):\n",
    "    n = len(mt)\n",
    "    dx = 1/n\n",
    "    pieces = []\n",
    "    frame = patches.Rectangle(\n",
    "        (0.0, 0.0),1, 1, fill=False, edgecolor=\"black\",linewidth=2) \n",
    "    pieces.append(frame)\n",
    "    for j in range(n):\n",
    "        for i in range(n):\n",
    "            if mt[i,j]==1:\n",
    "                p = patches.Rectangle(\n",
    "                    (j/n,(n-1-i)/n), dx,dx, edgecolor=\"black\", facecolor=\"black\", fill=True,linewidth=2 )\n",
    "                pieces.append(p)\n",
    "            if mt[i,j]==0:\n",
    "                p = patches.Rectangle(\n",
    "                    (j/n,(n-1-i)/n), dx,dx, edgecolor=\"black\", fill=False,linewidth=2)\n",
    "                pieces.append(p)\n",
    "    return pieces"
   ]
  },
  {
   "cell_type": "code",
   "execution_count": 43,
   "metadata": {},
   "outputs": [],
   "source": [
    "def muestre(x):\n",
    "    ax1=plt.subplot(111,aspect='equal')\n",
    "    shape = andamio(x)\n",
    "    for p in shape: ax1.add_patch(p)\n",
    "    plt.axis('off')\n",
    "    plt.show() "
   ]
  },
  {
   "cell_type": "code",
   "execution_count": 44,
   "metadata": {},
   "outputs": [],
   "source": [
    "def muestre4(w,x, y, z):\n",
    "    fg = plt.figure(figsize=(34,5))\n",
    "    adj = plt.subplots_adjust(hspace=0.4)\n",
    "    ##############################################\n",
    "    ax1=plt.subplot(141,aspect='equal')\n",
    "    shape = andamio(w)\n",
    "    for p in shape: ax1.add_patch(p)\n",
    "    plt.axis('off')\n",
    "    ######################################################\n",
    "    ax2=plt.subplot(142,aspect='equal')\n",
    "    shape = andamio(x)\n",
    "    for p in shape: ax2.add_patch(p)\n",
    "    plt.axis('off')\n",
    "    ##############################################\n",
    "    ax3=plt.subplot(143,aspect='equal')\n",
    "    shape = andamio(y)\n",
    "    for p in shape: ax3.add_patch(p)\n",
    "    plt.axis('off')\n",
    "    ###########################################\n",
    "    ax4=plt.subplot(144,aspect='equal')\n",
    "    shape = andamio(z)\n",
    "    for p in shape: ax4.add_patch(p)\n",
    "    plt.axis('off')\n",
    "    ################################################\n",
    "    plt.show() "
   ]
  },
  {
   "cell_type": "code",
   "execution_count": 45,
   "metadata": {},
   "outputs": [
    {
     "data": {
      "image/png": "[encoded data removed]",
      "text/plain": [
       "<Figure size 432x288 with 1 Axes>"
      ]
     },
     "metadata": {
      "needs_background": "light"
     },
     "output_type": "display_data"
    }
   ],
   "source": [
    "ev = evolucion(8, Base1) \n",
    "muestre(Base1)"
   ]
  },
  {
   "cell_type": "code",
   "execution_count": 46,
   "metadata": {},
   "outputs": [
    {
     "data": {
      "image/png": "[encoded data removed]",
      "text/plain": [
       "<Figure size 2448x360 with 4 Axes>"
      ]
     },
     "metadata": {
      "needs_background": "light"
     },
     "output_type": "display_data"
    }
   ],
   "source": [
    "muestre4(ev[0], ev[1], ev[2], ev[3])"
   ]
  },
  {
   "cell_type": "code",
   "execution_count": 47,
   "metadata": {},
   "outputs": [
    {
     "data": {
      "image/png": "[encoded data removed]",
      "text/plain": [
       "<Figure size 2448x360 with 4 Axes>"
      ]
     },
     "metadata": {
      "needs_background": "light"
     },
     "output_type": "display_data"
    }
   ],
   "source": [
    "muestre4(ev[4], ev[5], ev[6], ev[7])"
   ]
  },
  {
   "cell_type": "code",
   "execution_count": 48,
   "metadata": {},
   "outputs": [
    {
     "data": {
      "image/png": "[encoded data removed]",
      "text/plain": [
       "<Figure size 432x288 with 1 Axes>"
      ]
     },
     "metadata": {
      "needs_background": "light"
     },
     "output_type": "display_data"
    }
   ],
   "source": [
    "ev = evolucion(8, Base2)\n",
    "muestre(Base2)"
   ]
  },
  {
   "cell_type": "code",
   "execution_count": 49,
   "metadata": {},
   "outputs": [
    {
     "data": {
      "image/png": "[encoded data removed]",
      "text/plain": [
       "<Figure size 2448x360 with 4 Axes>"
      ]
     },
     "metadata": {
      "needs_background": "light"
     },
     "output_type": "display_data"
    }
   ],
   "source": [
    "muestre4(ev[0], ev[1], ev[2], ev[3])\n"
   ]
  },
  {
   "cell_type": "code",
   "execution_count": 50,
   "metadata": {},
   "outputs": [
    {
     "data": {
      "image/png": "[encoded data removed]",
      "text/plain": [
       "<Figure size 2448x360 with 4 Axes>"
      ]
     },
     "metadata": {
      "needs_background": "light"
     },
     "output_type": "display_data"
    }
   ],
   "source": [
    "muestre4(ev[4], ev[5], ev[6], ev[7])"
   ]
  },
  {
   "cell_type": "code",
   "execution_count": 51,
   "metadata": {},
   "outputs": [
    {
     "data": {
      "image/png": "[encoded data removed]",
      "text/plain": [
       "<Figure size 432x288 with 1 Axes>"
      ]
     },
     "metadata": {
      "needs_background": "light"
     },
     "output_type": "display_data"
    }
   ],
   "source": [
    "ev = evolucion(8, Base3)\n",
    "muestre(Base3)"
   ]
  },
  {
   "cell_type": "code",
   "execution_count": 52,
   "metadata": {},
   "outputs": [
    {
     "data": {
      "image/png": "[encoded data removed]",
      "text/plain": [
       "<Figure size 2448x360 with 4 Axes>"
      ]
     },
     "metadata": {
      "needs_background": "light"
     },
     "output_type": "display_data"
    }
   ],
   "source": [
    "muestre4(ev[0], ev[1], ev[2], ev[3])"
   ]
  },
  {
   "cell_type": "code",
   "execution_count": 53,
   "metadata": {},
   "outputs": [
    {
     "data": {
      "image/png": "[encoded data removed]",
      "text/plain": [
       "<Figure size 2448x360 with 4 Axes>"
      ]
     },
     "metadata": {
      "needs_background": "light"
     },
     "output_type": "display_data"
    }
   ],
   "source": [
    "muestre4(ev[4], ev[5], ev[6], ev[7])"
   ]
  },
  {
   "cell_type": "code",
   "execution_count": 54,
   "metadata": {},
   "outputs": [
    {
     "data": {
      "image/png": "[encoded data removed]",
      "text/plain": [
       "<Figure size 432x288 with 1 Axes>"
      ]
     },
     "metadata": {
      "needs_background": "light"
     },
     "output_type": "display_data"
    }
   ],
   "source": [
    "ev = evolucion(8, Base4)\n",
    "muestre(Base4)"
   ]
  },
  {
   "cell_type": "code",
   "execution_count": 55,
   "metadata": {},
   "outputs": [
    {
     "data": {
      "image/png": "[encoded data removed]",
      "text/plain": [
       "<Figure size 2448x360 with 4 Axes>"
      ]
     },
     "metadata": {
      "needs_background": "light"
     },
     "output_type": "display_data"
    }
   ],
   "source": [
    "muestre4(ev[0], ev[1], ev[2], ev[3])"
   ]
  },
  {
   "cell_type": "code",
   "execution_count": 56,
   "metadata": {},
   "outputs": [
    {
     "data": {
      "image/png": "[encoded data removed]",
      "text/plain": [
       "<Figure size 2448x360 with 4 Axes>"
      ]
     },
     "metadata": {
      "needs_background": "light"
     },
     "output_type": "display_data"
    }
   ],
   "source": [
    "muestre4(ev[4], ev[5], ev[6], ev[7])"
   ]
  },
  {
   "cell_type": "code",
   "execution_count": 57,
   "metadata": {},
   "outputs": [
    {
     "data": {
      "image/png": "[encoded data removed]",
      "text/plain": [
       "<Figure size 432x288 with 1 Axes>"
      ]
     },
     "metadata": {
      "needs_background": "light"
     },
     "output_type": "display_data"
    }
   ],
   "source": [
    "ev = evolucion(8, Base5)\n",
    "muestre(Base5)"
   ]
  },
  {
   "cell_type": "code",
   "execution_count": 58,
   "metadata": {},
   "outputs": [
    {
     "data": {
      "image/png": "[encoded data removed]",
      "text/plain": [
       "<Figure size 2448x360 with 4 Axes>"
      ]
     },
     "metadata": {
      "needs_background": "light"
     },
     "output_type": "display_data"
    }
   ],
   "source": [
    "muestre4(ev[0], ev[1], ev[2], ev[3])"
   ]
  },
  {
   "cell_type": "code",
   "execution_count": 59,
   "metadata": {},
   "outputs": [
    {
     "data": {
      "image/png": "[encoded data removed]",
      "text/plain": [
       "<Figure size 2448x360 with 4 Axes>"
      ]
     },
     "metadata": {
      "needs_background": "light"
     },
     "output_type": "display_data"
    }
   ],
   "source": [
    "muestre4(ev[4], ev[5], ev[6], ev[7])"
   ]
  },
  {
   "cell_type": "code",
   "execution_count": 60,
   "metadata": {},
   "outputs": [
    {
     "data": {
      "image/png": "[encoded data removed]",
      "text/plain": [
       "<Figure size 432x288 with 1 Axes>"
      ]
     },
     "metadata": {
      "needs_background": "light"
     },
     "output_type": "display_data"
    }
   ],
   "source": [
    "ev = evolucion(8, Base6)\n",
    "muestre(Base6)"
   ]
  },
  {
   "cell_type": "code",
   "execution_count": 61,
   "metadata": {},
   "outputs": [
    {
     "data": {
      "image/png": "[encoded data removed]",
      "text/plain": [
       "<Figure size 2448x360 with 4 Axes>"
      ]
     },
     "metadata": {
      "needs_background": "light"
     },
     "output_type": "display_data"
    }
   ],
   "source": [
    "muestre4(ev[0], ev[1], ev[2], ev[3])"
   ]
  },
  {
   "cell_type": "code",
   "execution_count": 62,
   "metadata": {},
   "outputs": [
    {
     "data": {
      "image/png": "[encoded data removed]",
      "text/plain": [
       "<Figure size 2448x360 with 4 Axes>"
      ]
     },
     "metadata": {
      "needs_background": "light"
     },
     "output_type": "display_data"
    }
   ],
   "source": [
    "muestre4(ev[4], ev[5], ev[6], ev[7])"
   ]
  },
  {
   "cell_type": "code",
   "execution_count": null,
   "metadata": {},
   "outputs": [],
   "source": []
  }
 ],
 "metadata": {
  "kernelspec": {
   "display_name": "Python 3.7 simpy",
   "language": "python",
   "name": "simulacion"
  },
  "language_info": {
   "codemirror_mode": {
    "name": "ipython",
    "version": 3
   },
   "file_extension": ".py",
   "mimetype": "text/x-python",
   "name": "python",
   "nbconvert_exporter": "python",
   "pygments_lexer": "ipython3",
   "version": "3.7.3"
  }
 },
 "nbformat": 4,
 "nbformat_minor": 2
}
